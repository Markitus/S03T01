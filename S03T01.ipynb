{
 "cells": [
  {
   "cell_type": "markdown",
   "id": "f0c28784",
   "metadata": {},
   "source": [
    "# Exercici 1"
   ]
  },
  {
   "cell_type": "code",
   "execution_count": 7,
   "id": "a2dc0b1a",
   "metadata": {},
   "outputs": [
    {
     "name": "stdout",
     "output_type": "stream",
     "text": [
      "[['Gener', 'Febrer', 'Març'], ['Abril', 'Maig', 'Juny'], ['Juliol', 'Agost', 'Setembre'], ['Octubre', 'Novembre', 'Desembre']]\n"
     ]
    }
   ],
   "source": [
    "hT=[\"Gener\", \"Febrer\", \"Març\"]\n",
    "pT=[\"Abril\", \"Maig\", \"Juny\"]\n",
    "eT=[\"Juliol\",\"Agost\",\"Setembre\"]\n",
    "tT=[\"Octubre\",\"Novembre\",\"Desembre\"]\n",
    "llista=[hT,pT,eT,tT]\n",
    "print(llista)"
   ]
  },
  {
   "cell_type": "markdown",
   "id": "2bcfced0",
   "metadata": {},
   "source": [
    "# Exercici 2"
   ]
  },
  {
   "cell_type": "code",
   "execution_count": 11,
   "id": "6f64c3ae",
   "metadata": {
    "scrolled": true
   },
   "outputs": [
    {
     "name": "stdout",
     "output_type": "stream",
     "text": [
      "Febrer\n"
     ]
    }
   ],
   "source": [
    "print(llista[0][1])"
   ]
  },
  {
   "cell_type": "code",
   "execution_count": 12,
   "id": "bc706fdf",
   "metadata": {},
   "outputs": [
    {
     "name": "stdout",
     "output_type": "stream",
     "text": [
      "['Gener', 'Febrer', 'Març']\n"
     ]
    }
   ],
   "source": [
    "print(hT)"
   ]
  },
  {
   "cell_type": "code",
   "execution_count": 13,
   "id": "666a1663",
   "metadata": {},
   "outputs": [
    {
     "name": "stdout",
     "output_type": "stream",
     "text": [
      "Setembre Octubre\n"
     ]
    }
   ],
   "source": [
    "print(llista[2][2],llista[3][0])"
   ]
  },
  {
   "cell_type": "markdown",
   "id": "ba561932",
   "metadata": {},
   "source": [
    "# Exercici 3"
   ]
  },
  {
   "cell_type": "code",
   "execution_count": 4,
   "id": "2c9d55a9",
   "metadata": {},
   "outputs": [
    {
     "name": "stdout",
     "output_type": "stream",
     "text": [
      "10\n"
     ]
    }
   ],
   "source": [
    "llista=[5,3,6,78,9,67,3,67,2,4]\n",
    "print(len(llista))"
   ]
  },
  {
   "cell_type": "code",
   "execution_count": 29,
   "id": "77a53e42",
   "metadata": {},
   "outputs": [
    {
     "name": "stdout",
     "output_type": "stream",
     "text": [
      "2\n"
     ]
    }
   ],
   "source": [
    "p=0\n",
    "for i in range(len(llista)):\n",
    "    if llista[i]== 3:\n",
    "        p=p+1\n",
    "print(p)"
   ]
  },
  {
   "cell_type": "code",
   "execution_count": 30,
   "id": "579b4116",
   "metadata": {},
   "outputs": [
    {
     "name": "stdout",
     "output_type": "stream",
     "text": [
      "3\n"
     ]
    }
   ],
   "source": [
    "p=0\n",
    "for i in range(len(llista)):\n",
    "    if llista[i]== 3 or llista[i]== 4:\n",
    "        p=p+1\n",
    "print(p)"
   ]
  },
  {
   "cell_type": "code",
   "execution_count": 34,
   "id": "808cd92e",
   "metadata": {},
   "outputs": [
    {
     "name": "stdout",
     "output_type": "stream",
     "text": [
      "78\n"
     ]
    }
   ],
   "source": [
    "llista.sort()\n",
    "print(llista[-1])"
   ]
  },
  {
   "cell_type": "code",
   "execution_count": 33,
   "id": "cc3168a2",
   "metadata": {},
   "outputs": [
    {
     "name": "stdout",
     "output_type": "stream",
     "text": [
      "[2, 3, 3]\n"
     ]
    }
   ],
   "source": [
    "print(llista[:3])"
   ]
  },
  {
   "cell_type": "code",
   "execution_count": 6,
   "id": "e5e40d4d",
   "metadata": {},
   "outputs": [
    {
     "name": "stdout",
     "output_type": "stream",
     "text": [
      "10\n"
     ]
    }
   ],
   "source": [
    "print(len(llista))"
   ]
  },
  {
   "cell_type": "markdown",
   "id": "f1501546",
   "metadata": {},
   "source": [
    "# Exercici 4"
   ]
  },
  {
   "cell_type": "code",
   "execution_count": 4,
   "id": "85d64595",
   "metadata": {},
   "outputs": [
    {
     "name": "stdout",
     "output_type": "stream",
     "text": [
      "{'Pomes': {'Qty': 5, '€': 0.42}, 'Peres': {'Qty': 3, '€': 0.66}, 'Mandarines': {'Qty': 456345, '€': 5674523}}\n"
     ]
    }
   ],
   "source": [
    "compra = { \"Pomes\" : {\"Qty\": 5, \"€\": 0.42}, \"Peres\" : {\"Qty\": 3, \"€\": 0.66} }\n",
    "compra[\"Mandarines\"]={\"Qty\":456345,\"€\":5674523}\n",
    "print(compra)"
   ]
  },
  {
   "cell_type": "code",
   "execution_count": 50,
   "id": "292562a8",
   "metadata": {},
   "outputs": [
    {
     "name": "stdout",
     "output_type": "stream",
     "text": [
      "1.98\n"
     ]
    }
   ],
   "source": [
    "print(compra[\"Peres\"][\"Qty\"]*compra[\"Peres\"][\"€\"])"
   ]
  },
  {
   "cell_type": "code",
   "execution_count": 51,
   "id": "58011e8c",
   "metadata": {},
   "outputs": [
    {
     "name": "stdout",
     "output_type": "stream",
     "text": [
      "456353\n"
     ]
    }
   ],
   "source": [
    "print(compra[\"Pomes\"][\"Qty\"]+compra[\"Peres\"][\"Qty\"]+compra[\"Mandarines\"][\"Qty\"])"
   ]
  },
  {
   "cell_type": "code",
   "execution_count": 13,
   "id": "a5ec09a4",
   "metadata": {},
   "outputs": [
    {
     "name": "stdout",
     "output_type": "stream",
     "text": [
      "Mandarines\n"
     ]
    }
   ],
   "source": [
    "y=0\n",
    "for x in compra:\n",
    "    if compra[x][\"€\"]>y:\n",
    "        y=compra[x][\"€\"]\n",
    "        n=x\n",
    "print(n)"
   ]
  },
  {
   "cell_type": "code",
   "execution_count": null,
   "id": "fa547309",
   "metadata": {},
   "outputs": [],
   "source": []
  }
 ],
 "metadata": {
  "kernelspec": {
   "display_name": "Python 3",
   "language": "python",
   "name": "python3"
  },
  "language_info": {
   "codemirror_mode": {
    "name": "ipython",
    "version": 3
   },
   "file_extension": ".py",
   "mimetype": "text/x-python",
   "name": "python",
   "nbconvert_exporter": "python",
   "pygments_lexer": "ipython3",
   "version": "3.8.8"
  }
 },
 "nbformat": 4,
 "nbformat_minor": 5
}
